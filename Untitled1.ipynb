{
 "cells": [
  {
   "cell_type": "markdown",
   "metadata": {},
   "source": [
    "## 클래스 \n",
    "\n",
    "### Crawler\n",
    "\n",
    "웹툰 크롤러에 대한 모든 기능을 가지고 있는 클래스\n",
    "\n",
    "#### 클래스 속성\n",
    "\n",
    "웹툰 목록 URL\n",
    "\n",
    "#### 인스턴스 속성\n",
    "\n",
    "- \n",
    "\n",
    "#### 프로퍼티\n",
    "\n",
    "- html (웹툰 목록 페이지의 html을 가져옴)\n",
    "- webtoon_data_list (webtoon목록을 가져옴\n",
    "\n",
    "#### 메서드\n",
    "\n",
    "\n",
    "\n",
    "### webtoonData\n",
    "웹툰 하나에 해당\n",
    "\n",
    "#### 속성\n",
    "\n",
    "- 고유 아이디 (webtoon_id)\n",
    "- 제목 (title)\n",
    "- 썸네일 이미지 (url_img_thumbnail)\n",
    "- (protected)작가 (_author)\n",
    "- (protected)작품설명 (_description)\n",
    "\n",
    "#### 프로퍼티\n",
    "\n",
    "- 작가 (author)(상세보기에서 가져오면서 _author속성을 채우기)\n",
    "- 작품설명 (description)(상세보기에서만 가져올 수 있음)\n",
    "\n",
    "#### 메서드\n",
    "\n",
    "\n",
    "### EpisodeData\n",
    "\n",
    "웹툰의 각 화 하나에 해당\n",
    "\n",
    "- 웹툰별 에피소드 고유 아이디 (episode_id)\n",
    "- 제목 (title)\n",
    "- 썸네일 이미지 (url_img_thumbnail)\n",
    "- 별점 (rating)\n",
    "- 등록일 (created_date)\n",
    "\n"
   ]
  },
  {
   "cell_type": "code",
   "execution_count": 1,
   "metadata": {},
   "outputs": [],
   "source": [
    "from bs4 import BeautifulSoup\n",
    "import requests\n",
    "import re"
   ]
  },
  {
   "cell_type": "code",
   "execution_count": 2,
   "metadata": {},
   "outputs": [],
   "source": [
    "url_naver = 'https://comic.naver.com/webtoon/weekday.nhn'\n",
    "response = requests.get(url_naver)"
   ]
  },
  {
   "cell_type": "code",
   "execution_count": 3,
   "metadata": {},
   "outputs": [],
   "source": [
    "open('weekday_prac.html', 'wt').write(response.text)\n",
    "html = open('weekday_prac.html', 'rt').read()"
   ]
  },
  {
   "cell_type": "code",
   "execution_count": 4,
   "metadata": {},
   "outputs": [],
   "source": [
    "soup = BeautifulSoup(html, 'lxml')"
   ]
  },
  {
   "cell_type": "code",
   "execution_count": 5,
   "metadata": {},
   "outputs": [
    {
     "data": {
      "text/plain": [
       "7"
      ]
     },
     "execution_count": 5,
     "metadata": {},
     "output_type": "execute_result"
    }
   ],
   "source": [
    "col_list = soup.select_one('div.list_area.daily_all').select('.col')\n",
    "len(col_list)"
   ]
  },
  {
   "cell_type": "code",
   "execution_count": 6,
   "metadata": {},
   "outputs": [],
   "source": [
    "li_list = []\n",
    "for col in col_list:\n",
    "    col_li_list = col.select('div.col_inner ul > li')\n",
    "    li_list.extend(col_li_list)\n"
   ]
  },
  {
   "cell_type": "code",
   "execution_count": 7,
   "metadata": {},
   "outputs": [],
   "source": [
    "class WebtoonData:\n",
    "    def __init__(self, title, url_thumbnail, webtoon_id):\n",
    "        self.title = title\n",
    "        self.url_thumbnail = url_thumbnail\n",
    "        self.webtoon_id = webtoon_id\n",
    "    def __repr__(self):\n",
    "        return self.title"
   ]
  },
  {
   "cell_type": "code",
   "execution_count": 8,
   "metadata": {},
   "outputs": [],
   "source": [
    "webtoon_data_dict = {}\n",
    "for li in li_list:\n",
    "    href = li.select_one('a.title')['href']\n",
    "    m = re.search(r'titleId=(\\d+)', href)\n",
    "    webtoon_id = m.group(1)\n",
    "    title = li.select_one('a.title').get_text(strip=True)\n",
    "    url_thumbnail = li.select_one('.thumb > a > img')['src']\n",
    "    \n",
    "    if not title in webtoon_data_dict:\n",
    "        new_webtoon_list = WebtoonData(title, webtoon_id, url_thumbnail)\n",
    "        webtoon_data_dict[title] = new_webtoon_list"
   ]
  },
  {
   "cell_type": "code",
   "execution_count": 9,
   "metadata": {},
   "outputs": [],
   "source": [
    "url_episode_list = 'https://comic.naver.com/webtoon/list.nhn?titleId=183559&weekday=mon'"
   ]
  },
  {
   "cell_type": "code",
   "execution_count": 10,
   "metadata": {},
   "outputs": [],
   "source": [
    "response = requests.get(url_episode_list)\n",
    "html = response.text\n",
    "soup = BeautifulSoup(html, 'lxml')"
   ]
  },
  {
   "cell_type": "code",
   "execution_count": 11,
   "metadata": {},
   "outputs": [
    {
     "name": "stdout",
     "output_type": "stream",
     "text": [
      "2부 321화 403 9.93 2018.09.30 https://shared-comic.pstatic.net/thumb/webtoon/183559/403/thumbnail_202x120_ee970c1f-eea6-4517-aef6-797057fa3584.jpg\n",
      "2부 320화 402 9.97 2018.09.23 https://shared-comic.pstatic.net/thumb/webtoon/183559/402/thumbnail_202x120_b1426349-ae94-4eaf-bd63-9b2af4bdef2c.jpg\n",
      "2부 319화 401 9.98 2018.09.16 https://shared-comic.pstatic.net/thumb/webtoon/183559/401/thumbnail_202x120_f851ac1e-02ab-430c-84df-abf304aafc83.jpg\n",
      "2부 318화 400 9.96 2018.09.09 https://shared-comic.pstatic.net/thumb/webtoon/183559/400/thumbnail_202x120_7fe1272a-9451-4870-bc16-24f38361ee4b.jpg\n",
      "2부 317화 399 9.97 2018.09.02 https://shared-comic.pstatic.net/thumb/webtoon/183559/399/thumbnail_202x120_16e00f43-8310-4e29-a638-4c3281275192.jpg\n",
      "2부 316화 398 9.97 2018.08.26 https://shared-comic.pstatic.net/thumb/webtoon/183559/398/thumbnail_202x120_d3777f52-76c7-4e0c-9fdb-4842893598a0.jpg\n",
      "2부 315화 397 9.96 2018.08.19 https://shared-comic.pstatic.net/thumb/webtoon/183559/397/thumbnail_202x120_71bbf3a3-1c89-414b-9010-4d231036b7eb.jpg\n",
      "2부 314화 396 9.95 2018.08.12 https://shared-comic.pstatic.net/thumb/webtoon/183559/396/thumbnail_202x120_31982a1d-5bfe-4119-9904-1784754a046f.jpg\n",
      "2부 313화 395 9.96 2018.08.05 https://shared-comic.pstatic.net/thumb/webtoon/183559/395/thumbnail_202x120_7a427b7e-d49d-4fd6-b8e1-0f1e70f8650d.jpg\n",
      "2부 312화 394 9.97 2018.07.29 https://shared-comic.pstatic.net/thumb/webtoon/183559/394/thumbnail_202x120_0e00cc4d-752f-4bff-ba15-35f29ebd69e1.jpg\n"
     ]
    }
   ],
   "source": [
    "import re\n",
    "table = soup.select_one('table.viewList')\n",
    "tr_list = table.select('tr')[1:]\n",
    "for tr in tr_list:\n",
    "    try:\n",
    "        td_list = tr.select('td')\n",
    "\n",
    "        href = td_list[0].select_one('a')['href']\n",
    "        no = re.search(r'no=(\\d+)', href).group(1)\n",
    "\n",
    "        url_thumbnail = td_list[0].select_one('img')['src']\n",
    "        title = td_list[1].select_one('a').get_text(strip=True)\n",
    "        rating = td_list[2].select_one('strong').get_text()\n",
    "        created_date = td_list[3].get_text(strip=True)    \n",
    "    except:\n",
    "        pass"
   ]
  },
  {
   "cell_type": "code",
   "execution_count": 13,
   "metadata": {},
   "outputs": [],
   "source": [
    "test_title_id = 711899\n",
    "url_webtoon_list = 'https://comic.naver.com/webtoon/list.nhn?titleId=711899&weekday=mon'\n",
    "next_url_lastpa4 = 'https://comic.naver.com/webtoon/list.nhn?titleId=711899&weekday=mon&page=4'\n",
    "response = requests.get(url_webtoon_list)\n",
    "html = response.text\n",
    "soup = BeautifulSoup(html, 'lxml')"
   ]
  },
  {
   "cell_type": "code",
   "execution_count": 20,
   "metadata": {},
   "outputs": [
    {
     "name": "stdout",
     "output_type": "stream",
     "text": [
      "37화 (상) 9.96 2018.10.04 https://shared-comic.pstatic.net/thumb/webtoon/711899/37/thumbnail_202x120_2022202a-0c1f-46ab-a935-744ed2307c1e.jpg\n",
      "36화 9.97 2018.09.30 https://shared-comic.pstatic.net/thumb/webtoon/711899/36/thumbnail_202x120_78a43127-4f97-4416-b1dc-abc0145608dd.jpg\n",
      "35화 9.97 2018.09.27 https://shared-comic.pstatic.net/thumb/webtoon/711899/35/thumbnail_202x120_dc7ebc7b-98fe-4769-83f2-ad667b5b9559.jpg\n",
      "34화 9.98 2018.09.23 https://shared-comic.pstatic.net/thumb/webtoon/711899/34/thumbnail_202x120_c1658fd4-1bf6-4a52-9723-030ed71a72be.jpg\n",
      "33화 9.97 2018.09.20 https://shared-comic.pstatic.net/thumb/webtoon/711899/33/thumbnail_202x120_0352c89e-5fce-4d1b-94a0-74454a78568f.jpg\n",
      "32화 9.96 2018.09.16 https://shared-comic.pstatic.net/thumb/webtoon/711899/32/thumbnail_202x120_f9a3da32-5d2c-4cf7-aa4a-81736174eb02.jpg\n",
      "31화 9.97 2018.09.13 https://shared-comic.pstatic.net/thumb/webtoon/711899/31/thumbnail_202x120_1c4ffb2f-503d-4d7f-9c83-b98461a8daff.jpg\n",
      "30화 9.95 2018.09.09 https://shared-comic.pstatic.net/thumb/webtoon/711899/30/thumbnail_202x120_02de9cc9-584d-40af-9ba3-1d016fb35bc8.jpg\n",
      "29화 9.97 2018.09.06 https://shared-comic.pstatic.net/thumb/webtoon/711899/29/thumbnail_202x120_2d817d31-c41c-499c-ac65-e1855832b15a.jpg\n",
      "28화 9.96 2018.09.02 https://shared-comic.pstatic.net/thumb/webtoon/711899/28/thumbnail_202x120_da594314-7d9e-4196-80cb-4f65ca0c7a5b.jpg\n"
     ]
    }
   ],
   "source": [
    "container = soup.select_one('div.webtoon')\n",
    "table = soup.select_one('table.viewList')\n",
    "tr_list = table.select('tr')[1:]\n",
    "for tr in tr_list:\n",
    "    try:\n",
    "        td_list = tr.select('td')\n",
    "\n",
    "        href = td_list[0].select_one('a')['href']\n",
    "        no = re.search(r'no=(\\d+)', href).group(1)\n",
    "\n",
    "        url_thumbnail = td_list[0].select_one('img')['src']\n",
    "        title = td_list[1].select_one('a').get_text(strip=True)\n",
    "        rating = td_list[2].select_one('strong').get_text()\n",
    "        created_date = td_list[3].get_text(strip=True)\n",
    "#         print(title, rating, created_date, url_thumbnail)\n",
    "    except:\n",
    "        pass"
   ]
  },
  {
   "cell_type": "code",
   "execution_count": 65,
   "metadata": {},
   "outputs": [
    {
     "data": {
      "text/plain": [
       "4"
      ]
     },
     "execution_count": 65,
     "metadata": {},
     "output_type": "execute_result"
    }
   ],
   "source": [
    "page = 1\n",
    "test_url = next_url_lastpa4 = f'https://comic.naver.com/webtoon/list.nhn?titleId=711899&weekday=mon&page=333'\n",
    "response = requests.get(test_url)\n",
    "html = response.text\n",
    "soup = BeautifulSoup(html, 'lxml')\n",
    "container = soup.select_one('div.webtoon')\n",
    "page_wrap = container.select_one('div.page_wrap')\n",
    "# while new_page == old_page:\n",
    "strong_num = page_wrap.select_one('strong.page')\n",
    "now_page = strong_num.select_one('em.num_page').get_text(strip=True)\n",
    "new_page = int(now_page)\n",
    "new_page"
   ]
  },
  {
   "cell_type": "code",
   "execution_count": 78,
   "metadata": {},
   "outputs": [],
   "source": [
    "new_page = 1\n",
    "old_page = 1\n",
    "test_url = next_url_lastpa4 = f'https://comic.naver.com/webtoon/list.nhn?titleId=711899&weekday=mon&page=1'\n",
    "response = requests.get(test_url)\n",
    "html = response.text\n",
    "soup = BeautifulSoup(html, 'lxml')\n",
    "container = soup.select_one('div.webtoon')\n",
    "page_wrap = container.select_one('div.page_wrap')\n",
    "# while new_page == old_page:\n",
    "strong_num = page_wrap.select_one('strong.page')\n",
    "now_page = strong_num.select_one('em.num_page').get_text(strip=True)\n",
    "new_page = int(now_page)\n",
    "old_page = new_page\n",
    "new_page += 1\n",
    "while new_page != old_page:\n",
    "    test_url = next_url_lastpa4 = f'https://comic.naver.com/webtoon/list.nhn?titleId=711899&weekday=mon&page={new_page}'\n",
    "    response = requests.get(test_url)\n",
    "    html = response.text\n",
    "    soup = BeautifulSoup(html, 'lxml')\n",
    "    container = soup.select_one('div.webtoon')\n",
    "    page_wrap = container.select_one('div.page_wrap')\n",
    "    strong_num = page_wrap.select_one('strong.page')\n",
    "    now_page = strong_num.select_one('em.num_page').get_text(strip=True)\n",
    "    new_page = int(now_page)\n",
    "    if new_page > old_page:\n",
    "        old_page = new_page\n",
    "        new_page += 1\n",
    "    else:\n",
    "        pass"
   ]
  },
  {
   "cell_type": "code",
   "execution_count": 79,
   "metadata": {},
   "outputs": [
    {
     "data": {
      "text/plain": [
       "4"
      ]
     },
     "execution_count": 79,
     "metadata": {},
     "output_type": "execute_result"
    }
   ],
   "source": [
    "new_page"
   ]
  },
  {
   "cell_type": "code",
   "execution_count": 80,
   "metadata": {},
   "outputs": [
    {
     "data": {
      "text/plain": [
       "4"
      ]
     },
     "execution_count": 80,
     "metadata": {},
     "output_type": "execute_result"
    }
   ],
   "source": [
    "old_page"
   ]
  },
  {
   "cell_type": "code",
   "execution_count": null,
   "metadata": {},
   "outputs": [],
   "source": []
  }
 ],
 "metadata": {
  "kernelspec": {
   "display_name": "Python 3",
   "language": "python",
   "name": "python3"
  },
  "language_info": {
   "codemirror_mode": {
    "name": "ipython",
    "version": 3
   },
   "file_extension": ".py",
   "mimetype": "text/x-python",
   "name": "python",
   "nbconvert_exporter": "python",
   "pygments_lexer": "ipython3",
   "version": "3.6.6"
  }
 },
 "nbformat": 4,
 "nbformat_minor": 2
}
