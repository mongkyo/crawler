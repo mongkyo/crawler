{
 "cells": [
  {
   "cell_type": "markdown",
   "metadata": {},
   "source": [
    "## 클래스 \n",
    "\n",
    "### Crawler\n",
    "\n",
    "웹툰 크롤러에 대한 모든 기능을 가지고 있는 클래스\n",
    "\n",
    "#### 클래스 속성\n",
    "\n",
    "웹툰 목록 URL\n",
    "\n",
    "#### 인스턴스 속성\n",
    "\n",
    "- \n",
    "\n",
    "#### 프로퍼티\n",
    "\n",
    "- html (웹툰 목록 페이지의 html을 가져옴)\n",
    "- webtoon_data_list (webtoon목록을 가져옴\n",
    "\n",
    "#### 메서드\n",
    "\n",
    "\n",
    "\n",
    "### webtoonData\n",
    "웹툰 하나에 해당\n",
    "\n",
    "#### 속성\n",
    "\n",
    "- 고유 아이디 (webtoon_id)\n",
    "- 제목 (title)\n",
    "- 썸네일 이미지 (url_img_thumbnail)\n",
    "- (protected)작가 (_author)\n",
    "- (protected)작품설명 (_description)\n",
    "\n",
    "#### 프로퍼티\n",
    "\n",
    "- 작가 (author)(상세보기에서 가져오면서 _author속성을 채우기)\n",
    "- 작품설명 (description)(상세보기에서만 가져올 수 있음)\n",
    "\n",
    "#### 메서드\n",
    "\n",
    "\n",
    "### EpisodeData\n",
    "\n",
    "웹툰의 각 화 하나에 해당\n",
    "\n",
    "- 웹툰별 에피소드 고유 아이디 (episode_id)\n",
    "- 제목 (title)\n",
    "- 썸네일 이미지 (url_img_thumbnail)\n",
    "- 별점 (rating)\n",
    "- 등록일 (created_date)\n",
    "\n"
   ]
  },
  {
   "cell_type": "markdown",
   "metadata": {},
   "source": [
    "## webtoonData 목록 만들기\n",
    "1. https://comic.naver.com/webtoon/weekday.nhn 의 내용을 weekday.html 파일에 저장\n",
    "2. weekday.html 파일을 열어 읽은 HTML을 파싱, webtoonData인스턴스 목록을 만들어서 webtoon_list 변수에 할당\n",
    "파싱에는 BeautifulSoup4 라이브러리를 사용\n",
    "https://www.crummy.com/software/BeautifulSoup/bs4/doc/#css-selectors 를 참조\n",
    "\n",
    "첫 코드는\n",
    "\n",
    "```\n",
    "html = <HTML문자열>\n",
    "soup = BeautifulSoup(html, 'lxml')\n",
    "```"
   ]
  },
  {
   "cell_type": "code",
   "execution_count": 1,
   "metadata": {},
   "outputs": [],
   "source": [
    "import requests\n",
    "from bs4 import BeautifulSoup\n",
    "import re"
   ]
  },
  {
   "cell_type": "code",
   "execution_count": 2,
   "metadata": {},
   "outputs": [
    {
     "data": {
      "text/plain": [
       "241729"
      ]
     },
     "execution_count": 2,
     "metadata": {},
     "output_type": "execute_result"
    }
   ],
   "source": [
    "response = requests.get('https://comic.naver.com/webtoon/weekday.nhn')\n",
    "open('weekday.html', 'wt').write(response.text)"
   ]
  },
  {
   "cell_type": "code",
   "execution_count": 3,
   "metadata": {},
   "outputs": [],
   "source": [
    "html = open('weekday.html', 'rt').read()\n",
    "soup = BeautifulSoup(html, 'lxml')"
   ]
  },
  {
   "cell_type": "code",
   "execution_count": 4,
   "metadata": {},
   "outputs": [],
   "source": [
    "# div class=\"list_area daily_all\"요소가 가진\n",
    "# 모든 .col목록들을 col_list에 할당\n",
    "\n",
    "# .list_area.daily_all은 웹툰 전체목록 부분에 해당\n",
    "# .col요소는 각 요일부분에 해당\n",
    "col_list = soup.select_one('div.list_area.daily_all').select('.col')"
   ]
  },
  {
   "cell_type": "code",
   "execution_count": 5,
   "metadata": {},
   "outputs": [
    {
     "data": {
      "text/plain": [
       "7"
      ]
     },
     "execution_count": 5,
     "metadata": {},
     "output_type": "execute_result"
    }
   ],
   "source": [
    "len(col_list)"
   ]
  },
  {
   "cell_type": "code",
   "execution_count": 6,
   "metadata": {},
   "outputs": [],
   "source": [
    "# .col내부에 있는 li요소 한개가 웹툰 한개에 해당\n",
    "# col_list(요일 목록)를 순회하며 각 col(요일)이 가진 모든 웹툰(li)요소들을\n",
    "# li_list에 추가하기\n",
    "\n",
    "li_list = []\n",
    "for col in col_list:\n",
    "    col_li_list = col.select('.col_inner ul > li')\n",
    "    li_list.extend(col_li_list)"
   ]
  },
  {
   "cell_type": "code",
   "execution_count": 7,
   "metadata": {},
   "outputs": [],
   "source": [
    "class WebtoonData:\n",
    "    def __init__(self, webtoon_id, title, url_thumbnail):\n",
    "        self.webtoon_id = webtoon_id\n",
    "        self.title = title\n",
    "        self.url_thumbnail = url_thumbnail\n",
    "        \n",
    "    def __repr__(self):\n",
    "        return self.title"
   ]
  },
  {
   "cell_type": "code",
   "execution_count": 62,
   "metadata": {},
   "outputs": [],
   "source": [
    "# for li in li_list:\n",
    "#     print(li.get_text(strip=True))\n",
    "# get_text(strip=True) 그 안에 텍스트 속성만을 가져온다\n",
    "\n",
    "class WebtoonData:\n",
    "    def __init__(self, webtoon_id, title, url_thumbnail):\n",
    "        self.webtoon_id = webtoon_id\n",
    "        self.title = title\n",
    "        self.url_thumbnail = url_thumbnail\n",
    "        \n",
    "    def __repr__(self):\n",
    "        return self.title\n",
    "    \n",
    "webtoon_data_dict = {}\n",
    "for li in li_list:\n",
    "    href = li.select_one('a.title')['href']\n",
    "    m = re.search(r'titleId=(\\d+)', href)\n",
    "    webtoon_id = m.group(1)\n",
    "    title = li.select_one('a.title').get_text(strip=True)\n",
    "    url_thumbnail = li.select_one('.thumb > a > img')['src']\n",
    "    \n",
    "    if title not in webtoon_data_dict:\n",
    "        new_webtoon_data = WebtoonData(webtoon_id, title, url_thumbnail)\n",
    "        webtoon_data_dict[title] = new_webtoon_data"
   ]
  },
  {
   "cell_type": "code",
   "execution_count": 63,
   "metadata": {},
   "outputs": [
    {
     "name": "stdout",
     "output_type": "stream",
     "text": [
      "신의 탑 신의 탑\n",
      "뷰티풀 군바리 뷰티풀 군바리\n",
      "윈드브레이커 윈드브레이커\n",
      "소녀의 세계 소녀의 세계\n",
      "대학일기 대학일기\n",
      "평범한 8반 평범한 8반\n",
      "니편내편 니편내편\n",
      "데드라이프 데드라이프\n",
      "신을 죽이는 방법 신을 죽이는 방법\n",
      "가우스전자 시즌3~4 가우스전자 시즌3~4\n",
      "내 여자친구는 상남자 내 여자친구는 상남자\n",
      "링크보이 링크보이\n",
      "일진에게 회초리 일진에게 회초리\n",
      "이것도 친구라고 이것도 친구라고\n",
      "오늘의 순정망화 오늘의 순정망화\n",
      "마왕이 되는 중2야 마왕이 되는 중2야\n",
      "이상하고 아름다운 이상하고 아름다운\n",
      "마이너스의 손 마이너스의 손\n",
      "부로콜리왕자 부로콜리왕자\n",
      "유일무이 로맨스 유일무이 로맨스\n",
      "혈투 혈투\n",
      "히어로메이커 히어로메이커\n",
      "피플 피플\n",
      "닥터 하운드 닥터 하운드\n",
      "꿈의 기업 꿈의 기업\n",
      "반투명인간 반투명인간\n",
      "와장창창! 자취맨 와장창창! 자취맨\n",
      "오직 나의 주인님 오직 나의 주인님\n",
      "홍차리브레 홍차리브레\n",
      "열대어 열대어\n",
      "찬란하지 않아도 괜찮아 찬란하지 않아도 괜찮아\n",
      "여신강림 여신강림\n",
      "노블레스 노블레스\n",
      "하이브3 하이브3\n",
      "랜덤채팅의 그녀! 랜덤채팅의 그녀!\n",
      "마음의소리 마음의소리\n",
      "원주민 공포만화 원주민 공포만화\n",
      "덴마 덴마\n",
      "신암행어사 신암행어사\n",
      "신도림 신도림\n",
      "빙탕후루 빙탕후루\n",
      "자판귀 자판귀\n",
      "신의 언어 신의 언어\n",
      "놓지마 정신줄 시즌2 놓지마 정신줄 시즌2\n",
      "노곤하개 노곤하개\n",
      "창궐 창궐\n",
      "삼국지톡 삼국지톡\n",
      "바른연애 길잡이 바른연애 길잡이\n",
      "윌유메리미 윌유메리미\n",
      "제로게임 제로게임\n",
      "에이머 에이머\n",
      "악마와 계약연애 악마와 계약연애\n",
      "은주의 방 2~3부 은주의 방 2~3부\n",
      "문래빗 문래빗\n",
      "열정호구 열정호구\n",
      "불괴 불괴\n",
      "참새는 새!신부 참새는 새!신부\n",
      "위장불륜 (僞裝不倫) 위장불륜 (僞裝不倫)\n",
      "패밀리 사이즈 패밀리 사이즈\n",
      "간질간질 간질간질\n",
      "반듯한 이용으로 당신을 응원합니다! 반듯한 이용으로 당신을 응원합니다!\n",
      "유미의 세포들 유미의 세포들\n",
      "복학왕 복학왕\n",
      "고수 고수\n",
      "연놈 연놈\n",
      "세상은 돈과 권력 세상은 돈과 권력\n",
      "헬퍼 2 : 킬베로스 헬퍼 2 : 킬베로스\n",
      "이츠마인 이츠마인\n",
      "신석기녀 신석기녀\n",
      "조선왕조실톡 조선왕조실톡\n",
      "레사 시즌2~3 레사 시즌2~3\n",
      "격기3반 격기3반\n",
      "언덕 위의 제임스 언덕 위의 제임스\n",
      "요리GO 요리GO\n",
      "로베스의 완전감각 로베스의 완전감각\n",
      "미시령 미시령\n",
      "12차원 소년들 12차원 소년들\n",
      "2018 루키 단편선-지옥캠프 2018 루키 단편선-지옥캠프\n",
      "성공한 덕후 성공한 덕후\n",
      "고교생을 환불해 주세요 고교생을 환불해 주세요\n",
      "펀브로커 펀브로커\n",
      "그 판타지 세계에서 사는 법 그 판타지 세계에서 사는 법\n",
      "자취로운 생활 자취로운 생활\n",
      "안녕, 대학생 안녕, 대학생\n",
      "옆반의 인어 옆반의 인어\n",
      "씬커 씬커\n",
      "푸른사막 아아루 푸른사막 아아루\n",
      "칼부림 칼부림\n",
      "일렉시드 일렉시드\n",
      "만 화 고 만 화 고\n",
      "여심강타(feat.금연) 여심강타(feat.금연)\n",
      "연애혁명 연애혁명\n",
      "신과함께 (재) 신과함께 (재)\n",
      "기기괴괴 기기괴괴\n",
      "타인은 지옥이다 타인은 지옥이다\n",
      "좀비딸 좀비딸\n",
      "하드캐리 하드캐리\n",
      "최강전설 강해효 최강전설 강해효\n",
      "캉타우 캉타우\n",
      "간 떨어지는 동거 간 떨어지는 동거\n",
      "쿠베라 쿠베라\n",
      "전자오락수호대 전자오락수호대\n",
      "가담항설 가담항설\n",
      "이름을 불러주세요 이름을 불러주세요\n",
      "롤랑롤랑 롤랑롤랑\n",
      "파도를 찾아라! 파도를 찾아라!\n",
      "35cm 35cm\n",
      "트롤트랩 트롤트랩\n",
      "아르마 아르마\n",
      "소유 소유\n",
      "5kg을 위하여 5kg을 위하여\n",
      "백귀야행지 백귀야행지\n",
      "Doll 체인지 Doll 체인지\n",
      "하나의 하루 하나의 하루\n",
      "좋아하는 부분 좋아하는 부분\n",
      "킬더킹 킬더킹\n",
      "호러와 로맨스 호러와 로맨스\n",
      "그랜드 배틀 토너먼트 그랜드 배틀 토너먼트\n",
      "특수 영능력 수사반 특수 영능력 수사반\n",
      "비둘기가 물고 온 남자 비둘기가 물고 온 남자\n",
      "안전의 참견 시즌2 안전의 참견 시즌2\n",
      "외모지상주의 외모지상주의\n",
      "갓 오브 하이스쿨 갓 오브 하이스쿨\n",
      "스위트홈 스위트홈\n",
      "테러맨 테러맨\n",
      "더 게이머 더 게이머\n",
      "밥 먹고 갈래요? 밥 먹고 갈래요?\n",
      "결계녀 결계녀\n",
      "화장 지워주는 남자 화장 지워주는 남자\n",
      "개를 낳았다 개를 낳았다\n",
      "걸어서 30분 걸어서 30분\n",
      "냐한남자 냐한남자\n",
      "암흑도시 암흑도시\n",
      "하르모니아 하르모니아\n",
      "몽홀 몽홀\n",
      "엔드리스 엔드리스\n",
      "골든 체인지 골든 체인지\n",
      "강변살다 강변살다\n",
      "왕으로 살다 왕으로 살다\n",
      "나의 짝사랑 고백법 나의 짝사랑 고백법\n",
      "식스틴 식스틴\n",
      "꼬리 꼬리\n",
      "여기는 시에라리온 여기는 시에라리온\n",
      "프리드로우 프리드로우\n",
      "호랑이형님 호랑이형님\n",
      "부활남 부활남\n",
      "비질란테 비질란테\n",
      "공복의 저녁식사 공복의 저녁식사\n",
      "대가리 대가리\n",
      "나노리스트 나노리스트\n",
      "갓핑크 갓핑크\n",
      "늑대와 빨간모자 늑대와 빨간모자\n",
      "어글리후드 어글리후드\n",
      "병의 맛 병의 맛\n",
      "아메리카노 엑소더스 아메리카노 엑소더스\n",
      "언데드 언데드\n",
      "귀각시 귀각시\n",
      "고인의 명복 고인의 명복\n",
      "우리 오빠는 아이돌 우리 오빠는 아이돌\n",
      "2인용 인간 2인용 인간\n",
      "방백남녀 방백남녀\n",
      "MZ-레이징 인페르노 MZ-레이징 인페르노\n",
      "트럼프 트럼프\n",
      "홍시는 날 좋아해! 홍시는 날 좋아해!\n",
      "동토의 여명 동토의 여명\n",
      "나이트런 나이트런\n",
      "환상적인 소년 환상적인 소년\n",
      "조의 영역 조의 영역\n",
      "열렙전사 열렙전사\n",
      "약한영웅 약한영웅\n",
      "연애의 정령 연애의 정령\n",
      "다이스(DICE) 다이스(DICE)\n",
      "오늘도 사랑스럽개 오늘도 사랑스럽개\n",
      "마법스크롤 상인 지오 마법스크롤 상인 지오\n",
      "언원티드 언원티드\n",
      "구구까까 구구까까\n",
      "연의 편지 연의 편지\n",
      "도망자 도망자\n",
      "허니허니 웨딩 허니허니 웨딩\n",
      "호랭총각 호랭총각\n",
      "내일 내일\n",
      "귀도호가록 귀도호가록\n",
      "황금의 핸드메이커 황금의 핸드메이커\n",
      "꽃 피는 날 꽃 피는 날\n",
      "파우스트 인 러브 파우스트 인 러브\n",
      "점핑오버 점핑오버\n",
      "완벽하지 않은 키스 완벽하지 않은 키스\n",
      "수학 잘하는 법 수학 잘하는 법\n",
      "웅이는 배고파 웅이는 배고파\n",
      "호곡 호곡\n",
      "가족사랑툰 가족사랑툰\n"
     ]
    }
   ],
   "source": [
    "for key, webtoon_data in webtoon_data_dict.items():\n",
    "    print(key, webtoon_data)"
   ]
  },
  {
   "cell_type": "code",
   "execution_count": null,
   "metadata": {},
   "outputs": [],
   "source": []
  },
  {
   "cell_type": "code",
   "execution_count": null,
   "metadata": {},
   "outputs": [],
   "source": []
  },
  {
   "cell_type": "code",
   "execution_count": null,
   "metadata": {},
   "outputs": [],
   "source": [
    "class A:\n",
    "    def __init__(self, value):\n",
    "        self.value = value"
   ]
  },
  {
   "cell_type": "code",
   "execution_count": null,
   "metadata": {},
   "outputs": [],
   "source": []
  },
  {
   "cell_type": "code",
   "execution_count": null,
   "metadata": {},
   "outputs": [],
   "source": [
    "def get_html(self, response):\n",
    "    \"\"\"\n",
    "    전체 웹툰 목록의 HTML을 리턴한다\n",
    "    만약에 파일로 저장되어 있다면, 해당 내용을 읽어온다.\n",
    "    파일로 저장되어 있지 않다면, requests를 사용해 웹에서 받아와 리턴해준다.\n",
    "        파일위치는 ./saved_data/weekday.html를 사용\n",
    "        경로 작성에는 os.path모듈을 사용\n",
    "\n",
    "    -> 다 작성한 후에는 show_webtoon_list에서 이 메서드를 사용하도록 함\n",
    "    :return:\n",
    "    \"\"\"\n",
    "\n",
    "    if os.path.exists(response):\n",
    "        html = response.text\n",
    "        soup = BeautifulSoup(html, 'lxml')\n",
    "        return soup\n",
    "    else:\n",
    "        response = requests.get('https://comic.naver.com/webtoon/weekday.nhn')\n",
    "        open('weekday.html', 'wt').write(response.text)\n"
   ]
  },
  {
   "cell_type": "code",
   "execution_count": 84,
   "metadata": {},
   "outputs": [],
   "source": [
    "import os.path"
   ]
  },
  {
   "cell_type": "code",
   "execution_count": 82,
   "metadata": {},
   "outputs": [],
   "source": [
    "response = requests.get('https://comic.naver.com/webtoon/weekday.nhn')\n"
   ]
  },
  {
   "cell_type": "code",
   "execution_count": 85,
   "metadata": {},
   "outputs": [
    {
     "ename": "AttributeError",
     "evalue": "module 'posixpath' has no attribute 'exist'",
     "output_type": "error",
     "traceback": [
      "\u001b[0;31m---------------------------------------------------------------------------\u001b[0m",
      "\u001b[0;31mAttributeError\u001b[0m                            Traceback (most recent call last)",
      "\u001b[0;32m<ipython-input-85-3b629179fc7c>\u001b[0m in \u001b[0;36m<module>\u001b[0;34m\u001b[0m\n\u001b[0;32m----> 1\u001b[0;31m \u001b[0;32mif\u001b[0m \u001b[0mos\u001b[0m\u001b[0;34m.\u001b[0m\u001b[0mpath\u001b[0m\u001b[0;34m.\u001b[0m\u001b[0mexist\u001b[0m\u001b[0;34m(\u001b[0m\u001b[0mresponse\u001b[0m\u001b[0;34m)\u001b[0m\u001b[0;34m:\u001b[0m\u001b[0;34m\u001b[0m\u001b[0m\n\u001b[0m\u001b[1;32m      2\u001b[0m     \u001b[0mhtml\u001b[0m \u001b[0;34m=\u001b[0m \u001b[0mresponse\u001b[0m\u001b[0;34m.\u001b[0m\u001b[0mtext\u001b[0m\u001b[0;34m\u001b[0m\u001b[0m\n\u001b[1;32m      3\u001b[0m     \u001b[0msoup\u001b[0m \u001b[0;34m=\u001b[0m \u001b[0mBeautifulSoup\u001b[0m\u001b[0;34m(\u001b[0m\u001b[0mhtml\u001b[0m\u001b[0;34m,\u001b[0m \u001b[0;34m'lxml'\u001b[0m\u001b[0;34m)\u001b[0m\u001b[0;34m\u001b[0m\u001b[0m\n\u001b[1;32m      4\u001b[0m \u001b[0;34m\u001b[0m\u001b[0m\n",
      "\u001b[0;31mAttributeError\u001b[0m: module 'posixpath' has no attribute 'exist'"
     ]
    }
   ],
   "source": [
    "if os.path.exist(response):\n",
    "    html = response.text\n",
    "    soup = BeautifulSoup(html, 'lxml')\n",
    "    "
   ]
  },
  {
   "cell_type": "markdown",
   "metadata": {},
   "source": [
    "# Episode"
   ]
  },
  {
   "cell_type": "code",
   "execution_count": 145,
   "metadata": {},
   "outputs": [],
   "source": [
    "import requests\n",
    "from bs4 import BeautifulSoup\n",
    "import re"
   ]
  },
  {
   "cell_type": "code",
   "execution_count": 146,
   "metadata": {},
   "outputs": [],
   "source": [
    "url_episode_list = 'https://comic.naver.com/webtoon/list.nhn?titleId=651673'"
   ]
  },
  {
   "cell_type": "code",
   "execution_count": 147,
   "metadata": {},
   "outputs": [],
   "source": [
    "response = requests.get(url_episode_list)"
   ]
  },
  {
   "cell_type": "code",
   "execution_count": 148,
   "metadata": {},
   "outputs": [],
   "source": [
    "html = response.text\n",
    "soup = BeautifulSoup(html, 'lxml')"
   ]
  },
  {
   "cell_type": "code",
   "execution_count": 162,
   "metadata": {},
   "outputs": [
    {
     "name": "stdout",
     "output_type": "stream",
     "text": [
      "345 342화 남자친구는 못 옵니다 9.96 2018.10.02 https://shared-comic.pstatic.net/thumb/webtoon/651673/345/thumbnail_202x120_bdd51112-fd71-42e1-bf16-ead6deb9d81e.jpg\n",
      "344 341화 명탐정 세포들 9.97 2018.09.28 https://shared-comic.pstatic.net/thumb/webtoon/651673/344/thumbnail_202x120_71ee0ba0-5cd2-44fe-822a-33857c818241.jpg\n",
      "343 340화 약한 부분 9.87 2018.09.25 https://shared-comic.pstatic.net/thumb/webtoon/651673/343/thumbnail_202x120_e0a62b04-1189-4a18-8cc8-68fa8e1d547f.jpg\n",
      "342 339화 내가 너무 예민한 거야 9.95 2018.09.21 https://shared-comic.pstatic.net/thumb/webtoon/651673/342/thumbnail_202x120_63f24adb-4056-47cc-a042-12826be4dda8.jpg\n",
      "341 338화 남자친구가 해준 떡볶이 9.97 2018.09.18 https://shared-comic.pstatic.net/thumb/webtoon/651673/341/thumbnail_202x120_f2f96bca-1da3-481e-8682-40e1efcc2c15.jpg\n",
      "340 337화 그 도넛 먹지마 9.97 2018.09.14 https://shared-comic.pstatic.net/thumb/webtoon/651673/340/thumbnail_202x120_ab85faf9-3c93-4131-a1aa-3816b9dae4a0.jpg\n",
      "339 336화 다정함에 관하여 9.97 2018.09.11 https://shared-comic.pstatic.net/thumb/webtoon/651673/339/thumbnail_202x120_c7206caa-9e75-4244-843c-1219d0fd470d.jpg\n",
      "338 335화 꿈 때문에 9.94 2018.09.07 https://shared-comic.pstatic.net/thumb/webtoon/651673/338/thumbnail_202x120_00b743b1-f279-4af3-9752-682ea1db4d8b.jpg\n",
      "337 334화 누가 윤희 마을에 불을 질렀나? 9.87 2018.09.04 https://shared-comic.pstatic.net/thumb/webtoon/651673/337/thumbnail_202x120_0654f158-254e-41f6-9d79-0c52cd9665e8.jpg\n",
      "336 333화 책상마녀의 습격 2 9.98 2018.08.31 https://shared-comic.pstatic.net/thumb/webtoon/651673/336/thumbnail_202x120_d30a7b42-abe2-43a7-b90b-ddfb54d71f16.jpg\n"
     ]
    }
   ],
   "source": [
    "table = soup.select_one('table.viewList')\n",
    "tr_list = table.select('tr')[1:]\n",
    "for tr in tr_list:\n",
    "    td_list = tr.select('td')\n",
    "    href = td_list[0].select_one('a')['href']\n",
    "    no = re.search(r'no=(\\d+)', href).group(1)\n",
    "    url_thumbnail = td_list[0].select_one('img')['src']\n",
    "    title = td_list[1].select_one('a').get_text(strip=True)\n",
    "    rating = td_list[2].select_one('strong').get_text()\n",
    "    created_date = td_list[3].get_text(strip=True)\n",
    "    \n",
    "    print(no, title, rating, created_date, url_thumbnail)"
   ]
  },
  {
   "cell_type": "code",
   "execution_count": null,
   "metadata": {},
   "outputs": [],
   "source": []
  },
  {
   "cell_type": "markdown",
   "metadata": {},
   "source": [
    "# 신의탑"
   ]
  },
  {
   "cell_type": "code",
   "execution_count": 166,
   "metadata": {},
   "outputs": [],
   "source": [
    "url_episode_list = 'https://comic.naver.com/webtoon/list.nhn?titleId=183559'\n",
    "response = requests.get(url_episode_list)\n",
    "html = response.text\n",
    "soup = BeautifulSoup(html, 'lxml')"
   ]
  },
  {
   "cell_type": "code",
   "execution_count": 167,
   "metadata": {},
   "outputs": [
    {
     "name": "stdout",
     "output_type": "stream",
     "text": [
      "403 2부 321화 9.93 2018.09.30 https://shared-comic.pstatic.net/thumb/webtoon/183559/403/thumbnail_202x120_ee970c1f-eea6-4517-aef6-797057fa3584.jpg\n",
      "402 2부 320화 9.97 2018.09.23 https://shared-comic.pstatic.net/thumb/webtoon/183559/402/thumbnail_202x120_b1426349-ae94-4eaf-bd63-9b2af4bdef2c.jpg\n",
      "401 2부 319화 9.98 2018.09.16 https://shared-comic.pstatic.net/thumb/webtoon/183559/401/thumbnail_202x120_f851ac1e-02ab-430c-84df-abf304aafc83.jpg\n",
      "400 2부 318화 9.96 2018.09.09 https://shared-comic.pstatic.net/thumb/webtoon/183559/400/thumbnail_202x120_7fe1272a-9451-4870-bc16-24f38361ee4b.jpg\n",
      "399 2부 317화 9.97 2018.09.02 https://shared-comic.pstatic.net/thumb/webtoon/183559/399/thumbnail_202x120_16e00f43-8310-4e29-a638-4c3281275192.jpg\n",
      "398 2부 316화 9.97 2018.08.26 https://shared-comic.pstatic.net/thumb/webtoon/183559/398/thumbnail_202x120_d3777f52-76c7-4e0c-9fdb-4842893598a0.jpg\n",
      "397 2부 315화 9.96 2018.08.19 https://shared-comic.pstatic.net/thumb/webtoon/183559/397/thumbnail_202x120_71bbf3a3-1c89-414b-9010-4d231036b7eb.jpg\n",
      "396 2부 314화 9.95 2018.08.12 https://shared-comic.pstatic.net/thumb/webtoon/183559/396/thumbnail_202x120_31982a1d-5bfe-4119-9904-1784754a046f.jpg\n",
      "395 2부 313화 9.96 2018.08.05 https://shared-comic.pstatic.net/thumb/webtoon/183559/395/thumbnail_202x120_7a427b7e-d49d-4fd6-b8e1-0f1e70f8650d.jpg\n",
      "394 2부 312화 9.97 2018.07.29 https://shared-comic.pstatic.net/thumb/webtoon/183559/394/thumbnail_202x120_0e00cc4d-752f-4bff-ba15-35f29ebd69e1.jpg\n"
     ]
    }
   ],
   "source": [
    "table = soup.select_one('table.viewList')\n",
    "tr_list = table.select('tr')[1:]\n",
    "for tr in tr_list:\n",
    "    try:\n",
    "        td_list = tr.select('td')\n",
    "        href = td_list[0].select_one('a')['href']\n",
    "        no = re.search(r'no=(\\d+)', href).group(1)\n",
    "        url_thumbnail = td_list[0].select_one('img')['src']\n",
    "        title = td_list[1].select_one('a').get_text(strip=True)\n",
    "        rating = td_list[2].select_one('strong').get_text()\n",
    "        created_date = td_list[3].get_text(strip=True)\n",
    "\n",
    "        print(no, title, rating, created_date, url_thumbnail)\n",
    "    except:\n",
    "        pass"
   ]
  },
  {
   "cell_type": "code",
   "execution_count": null,
   "metadata": {},
   "outputs": [],
   "source": []
  },
  {
   "cell_type": "code",
   "execution_count": null,
   "metadata": {},
   "outputs": [],
   "source": []
  },
  {
   "cell_type": "code",
   "execution_count": null,
   "metadata": {},
   "outputs": [],
   "source": []
  },
  {
   "cell_type": "code",
   "execution_count": null,
   "metadata": {},
   "outputs": [],
   "source": []
  },
  {
   "cell_type": "code",
   "execution_count": null,
   "metadata": {},
   "outputs": [],
   "source": []
  },
  {
   "cell_type": "code",
   "execution_count": null,
   "metadata": {},
   "outputs": [],
   "source": []
  },
  {
   "cell_type": "code",
   "execution_count": null,
   "metadata": {},
   "outputs": [],
   "source": []
  },
  {
   "cell_type": "code",
   "execution_count": 2,
   "metadata": {},
   "outputs": [],
   "source": [
    "class WebtoonData:\n",
    "    def __init__(self):\n",
    "        pass\n",
    "    def web_title():\n",
    "        pass\n",
    "    def web_url_img_thumbnail():\n",
    "        pass\n",
    "    def web_author():\n",
    "        pass\n",
    "    def web_description():\n",
    "        pass\n",
    "    \n",
    "class EpisodeData:\n",
    "    def __init__(self):\n",
    "        pass\n",
    "    def epi_title():\n",
    "        pass\n",
    "    def epi_url_img_thumbnail():\n",
    "        pass\n",
    "    def epi_rating():\n",
    "        pass\n",
    "    def epi_created_date():\n",
    "        pass\n",
    "    "
   ]
  },
  {
   "cell_type": "code",
   "execution_count": 3,
   "metadata": {},
   "outputs": [],
   "source": [
    "URL_WEEKDAY = 'https://comic.naver.com/webtoon/weekday.nhn'\n",
    "response = requests.get(URL_WEEKDAY)"
   ]
  },
  {
   "cell_type": "code",
   "execution_count": null,
   "metadata": {},
   "outputs": [],
   "source": []
  },
  {
   "cell_type": "code",
   "execution_count": 4,
   "metadata": {},
   "outputs": [],
   "source": [
    "with open('URL_WEEKDAY.html', 'wt') as f:\n",
    "    f.write(response.text)"
   ]
  },
  {
   "cell_type": "code",
   "execution_count": 5,
   "metadata": {},
   "outputs": [],
   "source": [
    "f = open('URL_WEEKDAY.html', 'rt')\n",
    "webtoon = f.read()"
   ]
  },
  {
   "cell_type": "code",
   "execution_count": 36,
   "metadata": {},
   "outputs": [],
   "source": [
    "html_title = []\n",
    "html = BeautifulSoup(webtoon, 'lxml')\n",
    "html_thumb = html.select('div.thumb')\n",
    "for a in html_thumb:\n",
    "    b = a.img.get('title')\n",
    "    html_title.append(b)\n",
    "    \n",
    "html_title=list(set(html_title))"
   ]
  },
  {
   "cell_type": "code",
   "execution_count": 37,
   "metadata": {},
   "outputs": [
    {
     "data": {
      "text/plain": [
       "192"
      ]
     },
     "execution_count": 37,
     "metadata": {},
     "output_type": "execute_result"
    }
   ],
   "source": [
    "len(html_title)"
   ]
  },
  {
   "cell_type": "code",
   "execution_count": 38,
   "metadata": {},
   "outputs": [],
   "source": [
    "html = BeautifulSoup(webtoon, 'lxml')\n",
    "html_thumb_img = html.select('div.thumb')\n",
    "html_img = []\n",
    "html_thumb_img\n",
    "for a in html_thumb_img:\n",
    "    b = a.img.get('src')\n",
    "    html_img.append(b)\n",
    "html_img = list(set(html_img))"
   ]
  },
  {
   "cell_type": "code",
   "execution_count": 39,
   "metadata": {},
   "outputs": [
    {
     "data": {
      "text/plain": [
       "192"
      ]
     },
     "execution_count": 39,
     "metadata": {},
     "output_type": "execute_result"
    }
   ],
   "source": [
    "len(html_img)"
   ]
  },
  {
   "cell_type": "code",
   "execution_count": null,
   "metadata": {},
   "outputs": [],
   "source": []
  },
  {
   "cell_type": "code",
   "execution_count": null,
   "metadata": {},
   "outputs": [],
   "source": []
  },
  {
   "cell_type": "code",
   "execution_count": null,
   "metadata": {},
   "outputs": [],
   "source": []
  }
 ],
 "metadata": {
  "kernelspec": {
   "display_name": "Python 3",
   "language": "python",
   "name": "python3"
  },
  "language_info": {
   "codemirror_mode": {
    "name": "ipython",
    "version": 3
   },
   "file_extension": ".py",
   "mimetype": "text/x-python",
   "name": "python",
   "nbconvert_exporter": "python",
   "pygments_lexer": "ipython3",
   "version": "3.6.6"
  }
 },
 "nbformat": 4,
 "nbformat_minor": 2
}
